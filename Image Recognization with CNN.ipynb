{
 "cells": [
  {
   "cell_type": "markdown",
   "metadata": {},
   "source": [
    "# Convolutional Neural Network"
   ]
  },
  {
   "cell_type": "code",
   "execution_count": 1,
   "metadata": {},
   "outputs": [],
   "source": [
    "import tensorflow as tf\n",
    "import numpy as np\n",
    "from keras.preprocessing.image import ImageDataGenerator"
   ]
  },
  {
   "cell_type": "code",
   "execution_count": 2,
   "metadata": {},
   "outputs": [
    {
     "data": {
      "text/plain": [
       "'2.3.0'"
      ]
     },
     "execution_count": 2,
     "metadata": {},
     "output_type": "execute_result"
    }
   ],
   "source": [
    "tf.__version__"
   ]
  },
  {
   "cell_type": "markdown",
   "metadata": {},
   "source": [
    "##### PREPROCESSING THE TRAINING SET"
   ]
  },
  {
   "cell_type": "code",
   "execution_count": 6,
   "metadata": {},
   "outputs": [
    {
     "name": "stdout",
     "output_type": "stream",
     "text": [
      "Found 8000 images belonging to 2 classes.\n"
     ]
    }
   ],
   "source": [
    "train_datagen = ImageDataGenerator(\n",
    "        rescale=1./255,\n",
    "        shear_range=0.2,\n",
    "        zoom_range=0.2,\n",
    "        horizontal_flip=True)\n",
    "training_set = train_datagen.flow_from_directory(\n",
    "        'C:/Users/justi/Downloads/Section+40+-+Convolutional+Neural+Networks+(CNN)/Section 40 - Convolutional Neural Networks (CNN)\\dataset/training_set',\n",
    "        target_size=(64, 64),\n",
    "        batch_size=32,\n",
    "        class_mode='binary')"
   ]
  },
  {
   "cell_type": "markdown",
   "metadata": {},
   "source": [
    "##### PREPROCESSING THE TEST SET"
   ]
  },
  {
   "cell_type": "code",
   "execution_count": 8,
   "metadata": {},
   "outputs": [
    {
     "name": "stdout",
     "output_type": "stream",
     "text": [
      "Found 2000 images belonging to 2 classes.\n"
     ]
    }
   ],
   "source": [
    "test_datagen = ImageDataGenerator(rescale=1./255)\n",
    "test_set = test_datagen.flow_from_directory(\n",
    "        'C:/Users/justi/Downloads/Section+40+-+Convolutional+Neural+Networks+(CNN)/Section 40 - Convolutional Neural Networks (CNN)/dataset/test_set',\n",
    "        target_size=(64, 64),\n",
    "        batch_size=32,\n",
    "        class_mode='binary')"
   ]
  },
  {
   "cell_type": "markdown",
   "metadata": {},
   "source": [
    "##### BUILDING OUR CNN"
   ]
  },
  {
   "cell_type": "code",
   "execution_count": 9,
   "metadata": {},
   "outputs": [],
   "source": [
    "cnn = tf.keras.models.Sequential()"
   ]
  },
  {
   "cell_type": "code",
   "execution_count": 10,
   "metadata": {},
   "outputs": [],
   "source": [
    "# Convolutional First Layer\n",
    "cnn.add(tf.keras.layers.Conv2D(filters = 32, kernel_size = 3, activation = 'relu', input_shape = [64,64,3]))"
   ]
  },
  {
   "cell_type": "code",
   "execution_count": 11,
   "metadata": {},
   "outputs": [],
   "source": [
    "# Pooling\n",
    "cnn.add(tf.keras.layers.MaxPool2D(pool_size = 2, strides = 2))"
   ]
  },
  {
   "cell_type": "code",
   "execution_count": 12,
   "metadata": {},
   "outputs": [],
   "source": [
    "# Adding a second convolutional layer\n",
    "cnn.add(tf.keras.layers.Conv2D(filters = 32, kernel_size = 3, activation = 'relu'))\n",
    "cnn.add(tf.keras.layers.MaxPool2D(pool_size = 2, strides = 2))"
   ]
  },
  {
   "cell_type": "code",
   "execution_count": 13,
   "metadata": {},
   "outputs": [],
   "source": [
    "# Flattening\n",
    "cnn.add(tf.keras.layers.Flatten())"
   ]
  },
  {
   "cell_type": "code",
   "execution_count": 14,
   "metadata": {},
   "outputs": [],
   "source": [
    "# Full Connection\n",
    "cnn.add(tf.keras.layers.Dense(units = 128, activation = 'relu'))"
   ]
  },
  {
   "cell_type": "code",
   "execution_count": 15,
   "metadata": {},
   "outputs": [],
   "source": [
    "# Adding Output Layer\n",
    "cnn.add(tf.keras.layers.Dense(units = 1, activation = 'sigmoid'))"
   ]
  },
  {
   "cell_type": "markdown",
   "metadata": {},
   "source": [
    "##### TRAINING OUR CNN"
   ]
  },
  {
   "cell_type": "code",
   "execution_count": 16,
   "metadata": {},
   "outputs": [],
   "source": [
    "# Compiling our CNN\n",
    "cnn.compile(optimizer = 'adam', loss = 'binary_crossentropy', metrics = ['accuracy'])"
   ]
  },
  {
   "cell_type": "code",
   "execution_count": 17,
   "metadata": {
    "collapsed": true
   },
   "outputs": [
    {
     "name": "stdout",
     "output_type": "stream",
     "text": [
      "Epoch 1/28\n",
      "250/250 [==============================] - 503s 2s/step - loss: 0.6732 - accuracy: 0.5782 - val_loss: 0.7404 - val_accuracy: 0.5815\n",
      "Epoch 2/28\n",
      "250/250 [==============================] - 253s 1s/step - loss: 0.6068 - accuracy: 0.6664 - val_loss: 0.5606 - val_accuracy: 0.7160\n",
      "Epoch 3/28\n",
      "250/250 [==============================] - 102s 407ms/step - loss: 0.5653 - accuracy: 0.7074 - val_loss: 0.5643 - val_accuracy: 0.7070\n",
      "Epoch 4/28\n",
      "250/250 [==============================] - 103s 411ms/step - loss: 0.5260 - accuracy: 0.7314 - val_loss: 0.5004 - val_accuracy: 0.7555\n",
      "Epoch 5/28\n",
      "250/250 [==============================] - 102s 407ms/step - loss: 0.5072 - accuracy: 0.7467 - val_loss: 0.5029 - val_accuracy: 0.7660\n",
      "Epoch 6/28\n",
      "250/250 [==============================] - 95s 379ms/step - loss: 0.4945 - accuracy: 0.7564 - val_loss: 0.4968 - val_accuracy: 0.7650\n",
      "Epoch 7/28\n",
      "250/250 [==============================] - 107s 428ms/step - loss: 0.4732 - accuracy: 0.7705 - val_loss: 0.4651 - val_accuracy: 0.7830\n",
      "Epoch 8/28\n",
      "250/250 [==============================] - 108s 431ms/step - loss: 0.4504 - accuracy: 0.7874 - val_loss: 0.4958 - val_accuracy: 0.7625\n",
      "Epoch 9/28\n",
      "250/250 [==============================] - 116s 464ms/step - loss: 0.4396 - accuracy: 0.7926 - val_loss: 0.4620 - val_accuracy: 0.7860\n",
      "Epoch 10/28\n",
      "250/250 [==============================] - 102s 408ms/step - loss: 0.4242 - accuracy: 0.8010 - val_loss: 0.4611 - val_accuracy: 0.7995\n",
      "Epoch 11/28\n",
      "250/250 [==============================] - 103s 414ms/step - loss: 0.4100 - accuracy: 0.8129 - val_loss: 0.4478 - val_accuracy: 0.7975\n",
      "Epoch 12/28\n",
      "250/250 [==============================] - 103s 413ms/step - loss: 0.3988 - accuracy: 0.8175 - val_loss: 0.4732 - val_accuracy: 0.7835\n",
      "Epoch 13/28\n",
      "250/250 [==============================] - 107s 429ms/step - loss: 0.3884 - accuracy: 0.8232 - val_loss: 0.5635 - val_accuracy: 0.7440\n",
      "Epoch 14/28\n",
      "250/250 [==============================] - 101s 405ms/step - loss: 0.3691 - accuracy: 0.8319 - val_loss: 0.4678 - val_accuracy: 0.7890\n",
      "Epoch 15/28\n",
      "250/250 [==============================] - 103s 413ms/step - loss: 0.3584 - accuracy: 0.8418 - val_loss: 0.4662 - val_accuracy: 0.8060\n",
      "Epoch 16/28\n",
      "250/250 [==============================] - 98s 391ms/step - loss: 0.3469 - accuracy: 0.8450 - val_loss: 0.4471 - val_accuracy: 0.8095\n",
      "Epoch 17/28\n",
      "250/250 [==============================] - 531s 2s/step - loss: 0.3361 - accuracy: 0.8529 - val_loss: 0.4565 - val_accuracy: 0.8110\n",
      "Epoch 18/28\n",
      "250/250 [==============================] - 102s 409ms/step - loss: 0.3222 - accuracy: 0.8587 - val_loss: 0.4464 - val_accuracy: 0.8145\n",
      "Epoch 19/28\n",
      "250/250 [==============================] - 111s 442ms/step - loss: 0.3070 - accuracy: 0.8695 - val_loss: 0.4845 - val_accuracy: 0.7940\n",
      "Epoch 20/28\n",
      "250/250 [==============================] - 118s 472ms/step - loss: 0.3015 - accuracy: 0.8739 - val_loss: 0.5039 - val_accuracy: 0.8100\n",
      "Epoch 21/28\n",
      "250/250 [==============================] - 117s 467ms/step - loss: 0.2840 - accuracy: 0.8769 - val_loss: 0.5631 - val_accuracy: 0.7685\n",
      "Epoch 22/28\n",
      "250/250 [==============================] - 108s 431ms/step - loss: 0.2732 - accuracy: 0.8865 - val_loss: 0.4943 - val_accuracy: 0.8100\n",
      "Epoch 23/28\n",
      "250/250 [==============================] - 103s 413ms/step - loss: 0.2647 - accuracy: 0.8905 - val_loss: 0.5388 - val_accuracy: 0.7930\n",
      "Epoch 24/28\n",
      "250/250 [==============================] - 105s 421ms/step - loss: 0.2502 - accuracy: 0.8965 - val_loss: 0.5395 - val_accuracy: 0.7910\n",
      "Epoch 25/28\n",
      "250/250 [==============================] - 107s 430ms/step - loss: 0.2480 - accuracy: 0.8951 - val_loss: 0.5042 - val_accuracy: 0.8095\n",
      "Epoch 26/28\n",
      "250/250 [==============================] - 112s 450ms/step - loss: 0.2283 - accuracy: 0.9034 - val_loss: 0.5315 - val_accuracy: 0.7975\n",
      "Epoch 27/28\n",
      "250/250 [==============================] - 102s 408ms/step - loss: 0.2157 - accuracy: 0.9116 - val_loss: 0.5391 - val_accuracy: 0.8085\n",
      "Epoch 28/28\n",
      "250/250 [==============================] - 103s 411ms/step - loss: 0.2086 - accuracy: 0.9106 - val_loss: 0.5618 - val_accuracy: 0.8055\n"
     ]
    },
    {
     "data": {
      "text/plain": [
       "<tensorflow.python.keras.callbacks.History at 0x219e3a45b88>"
      ]
     },
     "execution_count": 17,
     "metadata": {},
     "output_type": "execute_result"
    }
   ],
   "source": [
    "# Training the CNN on train data & evaluating on test data\n",
    "cnn.fit(x = training_set, validation_data = test_set, epochs = 28)"
   ]
  },
  {
   "cell_type": "markdown",
   "metadata": {},
   "source": [
    "##### PREDICTING THE FINAL IMAGE"
   ]
  },
  {
   "cell_type": "code",
   "execution_count": 109,
   "metadata": {},
   "outputs": [],
   "source": [
    "import numpy as np\n",
    "from keras.preprocessing import image\n",
    "test_image = image.load_img('C:/Users/justi/Downloads/Section+40+-+Convolutional+Neural+Networks+(CNN)/Section 40 - Convolutional Neural Networks (CNN)/dataset/single_prediction/cat_or_dog_2.jpg', target_size = (64, 64))\n",
    "test_image = image.img_to_array(test_image)\n",
    "test_image = np.expand_dims(test_image, axis = 0)\n",
    "result = np.around(cnn.predict(test_image/255))\n",
    "training_set.class_indices\n",
    "if result[0][0] == 1:\n",
    "  prediction = 'dog'\n",
    "else:\n",
    "  prediction = 'cat'"
   ]
  },
  {
   "cell_type": "code",
   "execution_count": 110,
   "metadata": {},
   "outputs": [
    {
     "data": {
      "text/plain": [
       "'cat'"
      ]
     },
     "execution_count": 110,
     "metadata": {},
     "output_type": "execute_result"
    }
   ],
   "source": [
    "prediction"
   ]
  },
  {
   "cell_type": "code",
   "execution_count": null,
   "metadata": {},
   "outputs": [],
   "source": []
  }
 ],
 "metadata": {
  "kernelspec": {
   "display_name": "Python 3",
   "language": "python",
   "name": "python3"
  },
  "language_info": {
   "codemirror_mode": {
    "name": "ipython",
    "version": 3
   },
   "file_extension": ".py",
   "mimetype": "text/x-python",
   "name": "python",
   "nbconvert_exporter": "python",
   "pygments_lexer": "ipython3",
   "version": "3.7.6"
  }
 },
 "nbformat": 4,
 "nbformat_minor": 4
}
